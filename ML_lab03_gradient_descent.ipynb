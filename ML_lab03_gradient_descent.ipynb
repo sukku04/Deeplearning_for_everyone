{
 "cells": [
  {
   "cell_type": "code",
   "execution_count": 25,
   "metadata": {},
   "outputs": [],
   "source": [
    "import tensorflow as tf\n",
    "import matplotlib.pyplot as plt\n",
    "\n",
    "X = [1,2,3]\n",
    "Y = [1,2,3]\n",
    "\n",
    "'''W = tf.Variable(tf.random_normal([1]), name='weight')'''\n",
    "W = tf.Variable(-3.0)\n",
    "\n",
    "\n",
    "# hypothesis for linear model x * w\n",
    "hyp = X * W"
   ]
  },
  {
   "cell_type": "code",
   "execution_count": 20,
   "metadata": {},
   "outputs": [
    {
     "data": {
      "text/plain": [
       "'\\n#cost/loss function\\ncost = tf.reduce_sum(tf.square(hyp - Y))\\n\\n#Gradient Descent using derivative\\n#W -= Learnining rate * derivative\\nlearning_rate = 0.1\\ngradient = tf.reduce_mean((W * X - Y) * X)\\ndescent = W - learning_rate * gradient\\nupdate = W.assign(descent)\\n\\nsess = tf.Session()\\n\\nsess.run(tf.global_variables_initializer())\\nfor step in range(21):\\n    sess.run(update, feed_dict={X: x_data, Y: y_data})\\n    print(step, sess.run(cost, feed_dict={X: x_data, Y: y_data}), sess.run(W))\\n'"
      ]
     },
     "execution_count": 20,
     "metadata": {},
     "output_type": "execute_result"
    }
   ],
   "source": [
    "#Minimize cost by derivative\n",
    "'''\n",
    "#cost/loss function\n",
    "cost = tf.reduce_sum(tf.square(hyp - Y))\n",
    "\n",
    "#Gradient Descent using derivative\n",
    "#W -= Learnining rate * derivative\n",
    "learning_rate = 0.1\n",
    "gradient = tf.reduce_mean((W * X - Y) * X)\n",
    "descent = W - learning_rate * gradient\n",
    "update = W.assign(descent)\n",
    "\n",
    "sess = tf.Session()\n",
    "\n",
    "sess.run(tf.global_variables_initializer())\n",
    "for step in range(21):\n",
    "    sess.run(update, feed_dict={X: x_data, Y: y_data})\n",
    "    print(step, sess.run(cost, feed_dict={X: x_data, Y: y_data}), sess.run(W))\n",
    "'''    \n",
    "    "
   ]
  },
  {
   "cell_type": "code",
   "execution_count": 26,
   "metadata": {},
   "outputs": [
    {
     "name": "stdout",
     "output_type": "stream",
     "text": [
      "0 -3.0\n",
      "1 0.7333336\n",
      "2 0.98222226\n",
      "3 0.9988148\n",
      "4 0.99992096\n",
      "5 0.9999947\n",
      "6 0.99999964\n",
      "7 0.99999994\n",
      "8 1.0\n",
      "9 1.0\n"
     ]
    }
   ],
   "source": [
    "#Minize cost by gradient descent command\n",
    "cost = tf.reduce_mean(tf.square(hyp - Y))\n",
    "\n",
    "optimizer = tf.train.GradientDescentOptimizer(learning_rate=0.1)\n",
    "train = optimizer.minimize(cost)\n",
    "\n",
    "sess = tf.Session()\n",
    "sess.run(tf.global_variables_initializer())\n",
    "\n",
    "for step in range(10):\n",
    "    print(step, sess.run(W))\n",
    "    sess.run(train)"
   ]
  },
  {
   "cell_type": "code",
   "execution_count": null,
   "metadata": {},
   "outputs": [],
   "source": []
  }
 ],
 "metadata": {
  "kernelspec": {
   "display_name": "Python 3",
   "language": "python",
   "name": "python3"
  },
  "language_info": {
   "codemirror_mode": {
    "name": "ipython",
    "version": 3
   },
   "file_extension": ".py",
   "mimetype": "text/x-python",
   "name": "python",
   "nbconvert_exporter": "python",
   "pygments_lexer": "ipython3",
   "version": "3.6.5"
  }
 },
 "nbformat": 4,
 "nbformat_minor": 2
}
